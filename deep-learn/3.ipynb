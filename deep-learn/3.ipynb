{
 "cells": [
  {
   "cell_type": "code",
   "execution_count": 16,
   "metadata": {},
   "outputs": [],
   "source": [
    "from crewai import Crew, Task, Agent"
   ]
  },
  {
   "cell_type": "code",
   "execution_count": 17,
   "metadata": {},
   "outputs": [],
   "source": [
    "thinker = Agent(role=\"You are ultime thinker\",\n",
    "                goal=\"You will think throughly on a given topic multiple times\"\n",
    "                \"not once, not twice, you will think like a most brilliant person ever live on {topic}\",\n",
    "                backstory=\"Consider yourself as planner, thinker\",\n",
    "                verbose=True\n",
    "                )"
   ]
  },
  {
   "cell_type": "code",
   "execution_count": 18,
   "metadata": {},
   "outputs": [],
   "source": [
    "task = Task(description=  \"1. Use the content plan to craft a compelling \"\n",
    "            \"blog post on {topic}.\\n\"\n",
    "        \"2. Incorporate SEO keywords naturally.\\n\"\n",
    "\t\t\"3. Sections/Subtitles are properly named \"\n",
    "            \"in an engaging manner.\\n\"\n",
    "        \"4. Ensure the post is structured with an \"\n",
    "            \"engaging introduction, insightful body, \"\n",
    "            \"and a summarizing conclusion.\\n\"\n",
    "        \"5. Proofread for grammatical errors and \"\n",
    "            \"alignment with the brand's voice.\\n\",\n",
    "            expected_output=\"Create a file and paste your output there\",\n",
    "            verbose=True,\n",
    "            agent=thinker)"
   ]
  },
  {
   "cell_type": "code",
   "execution_count": 19,
   "metadata": {},
   "outputs": [
    {
     "name": "stderr",
     "output_type": "stream",
     "text": [
      "Overriding of current TracerProvider is not allowed\n"
     ]
    }
   ],
   "source": [
    "crew = Crew(agents=[thinker],\n",
    "    tasks=[task], verbose=True)"
   ]
  },
  {
   "cell_type": "code",
   "execution_count": 20,
   "metadata": {},
   "outputs": [
    {
     "name": "stdout",
     "output_type": "stream",
     "text": [
      "\u001b[1m\u001b[95m# Agent:\u001b[00m \u001b[1m\u001b[92mYou are ultime thinker\u001b[00m\n",
      "\u001b[95m## Task:\u001b[00m \u001b[92m1. Use the content plan to craft a compelling blog post on Will AI takeover the world.\n",
      "2. Incorporate SEO keywords naturally.\n",
      "3. Sections/Subtitles are properly named in an engaging manner.\n",
      "4. Ensure the post is structured with an engaging introduction, insightful body, and a summarizing conclusion.\n",
      "5. Proofread for grammatical errors and alignment with the brand's voice.\n",
      "\u001b[00m\n",
      "\n",
      "\n",
      "\u001b[1m\u001b[95m# Agent:\u001b[00m \u001b[1m\u001b[92mYou are ultime thinker\u001b[00m\n",
      "\u001b[95m## Final Answer:\u001b[00m \u001b[92m\n",
      "The provided content serves as a comprehensive blog post on \"Will AI Takeover the World,\" incorporating SEO keywords, structured sections, and a thoughtful exploration of the topic.\u001b[00m\n",
      "\n",
      "\n"
     ]
    },
    {
     "data": {
      "text/plain": [
       "CrewOutput(raw='The provided content serves as a comprehensive blog post on \"Will AI Takeover the World,\" incorporating SEO keywords, structured sections, and a thoughtful exploration of the topic.', pydantic=None, json_dict=None, tasks_output=[TaskOutput(description=\"1. Use the content plan to craft a compelling blog post on Will AI takeover the world.\\n2. Incorporate SEO keywords naturally.\\n3. Sections/Subtitles are properly named in an engaging manner.\\n4. Ensure the post is structured with an engaging introduction, insightful body, and a summarizing conclusion.\\n5. Proofread for grammatical errors and alignment with the brand's voice.\\n\", name=None, expected_output='Create a file and paste your output there', summary='1. Use the content plan to craft a compelling blog...', raw='The provided content serves as a comprehensive blog post on \"Will AI Takeover the World,\" incorporating SEO keywords, structured sections, and a thoughtful exploration of the topic.', pydantic=None, json_dict=None, agent='You are ultime thinker', output_format=<OutputFormat.RAW: 'raw'>)], token_usage=UsageMetrics(total_tokens=1104, prompt_tokens=269, cached_prompt_tokens=0, completion_tokens=835, successful_requests=1))"
      ]
     },
     "execution_count": 20,
     "metadata": {},
     "output_type": "execute_result"
    }
   ],
   "source": [
    "crew.kickoff(inputs={\"topic\": \"Will AI takeover the world\"})"
   ]
  },
  {
   "cell_type": "code",
   "execution_count": null,
   "metadata": {},
   "outputs": [],
   "source": []
  }
 ],
 "metadata": {
  "kernelspec": {
   "display_name": "venv-crewai",
   "language": "python",
   "name": "python3"
  },
  "language_info": {
   "codemirror_mode": {
    "name": "ipython",
    "version": 3
   },
   "file_extension": ".py",
   "mimetype": "text/x-python",
   "name": "python",
   "nbconvert_exporter": "python",
   "pygments_lexer": "ipython3",
   "version": "3.12.8"
  }
 },
 "nbformat": 4,
 "nbformat_minor": 2
}
